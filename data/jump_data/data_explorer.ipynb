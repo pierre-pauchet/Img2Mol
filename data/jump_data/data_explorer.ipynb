{
 "cells": [
  {
   "cell_type": "markdown",
   "metadata": {},
   "source": [
    "# Data Explorer\n",
    "\n",
    "This notebook provides tools and visualizations to explore and analyze datasets in the project.\n",
    "\n",
    "**Project:** CondGeoLDM  \n",
    "**Author:** Pierre  \n",
    "**Date:** 2024-06\n"
   ]
  },
  {
   "cell_type": "code",
   "execution_count": 2,
   "metadata": {},
   "outputs": [],
   "source": [
    "import os\n",
    "os.chdir('/projects/iktos/pierre/CondGeoLDM')\n",
    "from configs.datasets_config import jump, geom_no_h\n",
    "import copy\n",
    "import build_jump_dataset, build_geom_dataset\n",
    "import matplotlib.pyplot as plt\n",
    "import numpy as np\n",
    "import argparse\n",
    "import tqdm\n",
    "import wandb\n",
    "from configs.datasets_config import get_dataset_info\n",
    "from os.path import join\n",
    "import build_jump_dataset\n",
    "from qm9.models import get_optim, get_autoencoder, get_latent_diffusion\n",
    "from equivariant_diffusion import en_diffusion\n",
    "from equivariant_diffusion.utils import assert_correctly_masked\n",
    "from equivariant_diffusion import utils as flow_utils\n",
    "import torch\n",
    "from qm9.utils import prepare_context, compute_mean_mad, prepare_embeddings\n",
    "from train_test import train_epoch, test, analyze_and_save\n",
    "import argparse\n",
    "import umap.umap_ as umap\n",
    "\n",
    "args_j = argparse.Namespace(\n",
    "    exp_name='debug',\n",
    "    train_diffusion=True,\n",
    "    ae_path=None,\n",
    "    trainable_ae=True,\n",
    "    latent_nf=2,\n",
    "    kl_weight=0.01,\n",
    "    model='egnn_dynamics',\n",
    "    probabilistic_model='diffusion',\n",
    "    diffusion_steps=1000,\n",
    "    diffusion_noise_schedule='polynomial_2',\n",
    "    diffusion_loss_type='l2',\n",
    "    diffusion_noise_precision=1e-05,\n",
    "    n_epochs=500,\n",
    "    batch_size=32,\n",
    "    lr=0.0001,\n",
    "    break_train_epoch=False,\n",
    "    dp=True,\n",
    "    condition_time=True,\n",
    "    clip_grad=True,\n",
    "    trace='hutch',\n",
    "    n_layers=4,\n",
    "    inv_sublayers=1,\n",
    "    nf=256,\n",
    "    tanh=True,\n",
    "    attention=True,\n",
    "    norm_constant=1,\n",
    "    sin_embedding=False,\n",
    "    ode_regularization=0.001,\n",
    "    dataset='jump',\n",
    "    filter_n_atoms=None,\n",
    "    dequantization='argmax_variational',\n",
    "    n_report_steps=50,\n",
    "    wandb_usr=None,\n",
    "    no_wandb=False,\n",
    "    online=True,\n",
    "    no_cuda=False,\n",
    "    save_model=True,\n",
    "    generate_epochs=1,\n",
    "    num_workers=8,\n",
    "    test_epochs=1,\n",
    "    data_augmentation=False,\n",
    "    conditioning=[],\n",
    "    resume=None,\n",
    "    start_epoch=0,\n",
    "    ema_decay=0.9999,\n",
    "    augment_noise=0,\n",
    "    n_stability_samples=25,\n",
    "    normalize_factors=[1, 4, 10],\n",
    "    remove_h=False,\n",
    "    include_charges=False,\n",
    "    visualize_every_batch=10000,\n",
    "    normalization_factor=1.0,\n",
    "    aggregation_method='sum',\n",
    "    filter_molecule_size=None,\n",
    "    sequential=False,\n",
    "    conditioning_mode='original',\n",
    "    percent_train_ds=3,\n",
    "    cuda=True,\n",
    "    data_file= '/projects/iktos/pierre/CondGeoLDM/charac.npy',\n",
    ")\n",
    "args_g = copy.deepcopy(args_j)\n",
    "args_g.dataset = 'geom'\n",
    "args_g.data_file = '/projects/iktos/pierre/CondGeoLDM/data/geom/geom_drugs_no_h_30.npy'\n",
    "args_g.remove_h = True\n",
    "\n"
   ]
  },
  {
   "cell_type": "code",
   "execution_count": 2,
   "metadata": {},
   "outputs": [],
   "source": [
    "import numpy as np\n",
    "charac = np.load('/projects/iktos/pierre/CondGeoLDM/charac.npy', allow_pickle=True)\n",
    "# bugged_ids_during_3d_generation = np.load('/projects/iktos/pierre/CondGeoLDM/bugged_ids_during_3d_generation.npy', allow_pickle=True)"
   ]
  },
  {
   "cell_type": "code",
   "execution_count": 6,
   "metadata": {},
   "outputs": [
    {
     "name": "stdout",
     "output_type": "stream",
     "text": [
      "{1: 1, 2: 1, 4: 9, 5: 6, 6: 17, 7: 31, 8: 75, 9: 119, 10: 223, 11: 290, 12: 440, 13: 557, 14: 839, 15: 1084, 16: 1465, 17: 2073, 18: 2902, 19: 4129, 20: 4938, 21: 5918, 22: 7014, 23: 7959, 24: 9264, 25: 9719, 26: 9198, 27: 8621, 28: 7844, 29: 6810, 30: 5835, 31: 4818, 32: 3698, 33: 2495, 34: 1347, 35: 906, 36: 450, 37: 274, 38: 159, 39: 137, 40: 117, 41: 110, 42: 86, 43: 61, 44: 54, 45: 41, 46: 30, 47: 18, 48: 18, 49: 16, 50: 10, 51: 11, 52: 14, 53: 10, 54: 9, 55: 6, 56: 11, 57: 8, 58: 12, 59: 2, 60: 4, 61: 7, 62: 7, 63: 4, 64: 5, 65: 8, 66: 3, 67: 3, 68: 5, 69: 5}\n",
      "Molecule length distribution: {1: 1, 2: 1, 4: 9, 5: 6, 6: 17, 7: 31, 8: 75, 9: 119, 10: 223, 11: 290, 12: 440, 13: 557, 14: 839, 15: 1084, 16: 1465, 17: 2073, 18: 2902, 19: 4129, 20: 4938, 21: 5918, 22: 7014, 23: 7959, 24: 9264, 25: 9719, 26: 9198, 27: 8621, 28: 7844, 29: 6810, 30: 5835, 31: 4818, 32: 3698, 33: 2495, 34: 1347, 35: 906, 36: 450, 37: 274, 38: 159, 39: 137, 40: 117, 41: 110, 42: 86, 43: 61, 44: 54, 45: 41, 46: 30, 47: 18, 48: 18, 49: 16, 50: 10, 51: 11, 52: 14, 53: 10, 54: 9, 55: 6, 56: 11, 57: 8, 58: 12, 59: 2, 60: 4, 61: 7, 62: 7, 63: 4, 64: 5, 65: 8, 66: 3, 67: 3, 68: 5, 69: 5}\n",
      "Total atom counts: {'C': 2061108, 'N': 365202, 'O': 285744, 'S': 53049, 'Cl': 19610, 'F': 35165, 'Br': 3983, 'I': 270, 'P': 87, 'B': 22, 'Mo': 1, 'Si': 2, 'Se': 2, 'As': 1, 'K': 1, 'Sn': 1, 'Hg': 1, 'Na': 3, 'V': 1}\n"
     ]
    }
   ],
   "source": [
    "from collections import defaultdict, Counter\n",
    "\n",
    "# Suppose this is your dataset: a list of molecules\n",
    "\n",
    "# Dictionary to count molecule lengths\n",
    "n_nodes = defaultdict(int)\n",
    "\n",
    "# Counter to count all atoms\n",
    "atom_counts = Counter()\n",
    "\n",
    "for mol in charac:\n",
    "    atoms = mol['atom_types']\n",
    "    length = len(atoms)\n",
    "    n_nodes[length] += 1\n",
    "    atom_counts.update(mol['atom_types'])\n",
    "\n",
    "# Convert defaultdict to regular dict\n",
    "n_nodes = dict(n_nodes)\n",
    "ordered_n_nodes = {k: n_nodes[k] for k in sorted(n_nodes.keys())}\n",
    "print(ordered_n_nodes)\n",
    "\n",
    "print(\"Molecule length distribution:\", ordered_n_nodes)\n",
    "print(\"Total atom counts:\", dict(atom_counts))\n"
   ]
  },
  {
   "cell_type": "code",
   "execution_count": 41,
   "metadata": {},
   "outputs": [
    {
     "data": {
      "image/png": "[encoded data removed]",
      "text/plain": [
       "<Figure size 640x480 with 1 Axes>"
      ]
     },
     "metadata": {},
     "output_type": "display_data"
    }
   ],
   "source": [
    "import matplotlib.pyplot as plt\n",
    "# Transform positions into lists of triplets and pad with [0, 0, 0]\n",
    "molecule_lengths = [ordered_n_nodes[length] for length in ordered_n_nodes.keys()]\n",
    "# Calculate molecule lengths\n",
    "\n",
    "\n",
    "\n",
    "def normalize_dict_values(input_dict):\n",
    "    total = sum(input_dict.values())\n",
    "    return {key: value / total for key, value in input_dict.items()}\n",
    "\n",
    "geom_molecule_lengths = {1: 3, 2: 5, 3: 8, 4: 89, 5: 166, 6: 370, 7: 613, 8: 1214, 9: 1680, 10: 3315, 11: 5115, 12: 9873,\n",
    "                13: 15422, 14: 28088, 15: 50643, 16: 82299, 17: 124341, 18: 178417, 19: 240446, 20: 308209, 21: 372900,\n",
    "                22: 429257, 23: 477423, 24: 508377, 25: 522385, 26: 522000, 27: 507882, 28: 476702, 29: 426308,\n",
    "                30: 375819, 31: 310124, 32: 255179, 33: 204441, 34: 149383, 35: 109343, 36: 71701, 37: 44050,\n",
    "                38: 31437, 39: 20242, 40: 14971, 41: 10078, 42: 8049, 43: 4476, 44: 3130, 45: 1736, 46: 2030,\n",
    "                47: 1110, 48: 840, 49: 750, 50: 540, 51: 810, 52: 591, 53: 453, 54: 540, 55: 720, 56: 300, 57: 360,\n",
    "                58: 714, 59: 390, 60: 519, 61: 210, 62: 449, 63: 210, 64: 289, 65: 589, 66: 227, 67: 180, 68: 330,\n",
    "                69: 330, 70: 150, 71: 60, 72: 210, 73: 60, 74: 180, 75: 120, 76: 30, 77: 150, 78: 30, 79: 60, 82: 60,\n",
    "                85: 60, 86: 6, 87: 60, 90: 60, 91: 30}\n",
    "\n",
    "qm9_molecule_lengths = {9: 83366, 8: 13625, 7: 2404, 6: 475, 5: 91, 4: 25, 3: 7, 1: 2, 2: 5}\n",
    "norm_molecule_lengths = [molecule_lengths[i] / sum(molecule_lengths) for i in range(len(molecule_lengths))]\n",
    "# Plot histogram of molecule lengths\n",
    "plt.bar(ordered_n_nodes.keys(), norm_molecule_lengths , alpha=0.5, label='Jump')\n",
    "plt.bar(geom_molecule_lengths.keys(), normalize_dict_values(geom_molecule_lengths).values(), alpha=0.5, label='Geom')\n",
    "# plt.bar(qm9_molecule_lengths.keys(), normalize_dict_values(qm9_molecule_lengths).values(), alpha=0.5, label='QM9')\n",
    "plt.title('Histogram of Molecule Lengths (Number of Heavy Atoms)')\n",
    "plt.xlabel('Number of Heavy Atoms')\n",
    "plt.ylabel('Frequency')\n",
    "plt.legend()\n",
    "plt.show()\n",
    "\n"
   ]
  },
  {
   "cell_type": "code",
   "execution_count": 2,
   "metadata": {},
   "outputs": [],
   "source": [
    "jump_atom_types={'C': 2063934, 'N': 365627, 'O': 286672, 'S': 53099, 'Cl': 19617, 'F': 35165, 'Br': 3983, 'I': 270, 'P': 87, 'B': 22, 'Mo': 1, 'Si': 2, 'Se': 2, 'As': 1, 'K': 1, 'Sn': 1, 'Hg': 1, 'Na': 3, 'V': 1}\n",
    "qm9_atom_types= {'C': 635559, 'N': 101476, 'O': 140202, 'F': 2323}\n",
    "geom_atom_types = {'B': 290, 'C': 129988623, 'N': 20266722, 'O': 21669359, 'F': 1481844, 'Al': 1,\n",
    "                  'Si': 250, 'P': 36290, 'S': 3999872, 'Cl': 1224394, 'As': 4, 'Br': 298702, 'I': 5377, 'Hg': 13, 'Bi': 34}"
   ]
  },
  {
   "cell_type": "code",
   "execution_count": 4,
   "metadata": {},
   "outputs": [
    {
     "data": {
      "image/png": "[encoded data removed]",
      "text/plain": [
       "<Figure size 1200x600 with 2 Axes>"
      ]
     },
     "metadata": {},
     "output_type": "display_data"
    }
   ],
   "source": [
    "import matplotlib.pyplot as plt\n",
    "\n",
    "\n",
    "# Get the union of all atom types\n",
    "all_atom_types = set(qm9_atom_types.keys()).union(set(geom_atom_types.keys())).union(set(jump_atom_types.keys()))\n",
    "\n",
    "# Define consistent colors for each atom type\n",
    "colors = plt.cm.tab20(range(len(all_atom_types)))\n",
    "atom_colors = {atom: colors[i] for i, atom in enumerate(sorted(all_atom_types))}\n",
    "\n",
    "# Prepare data for pie charts\n",
    "qm9_labels = list(qm9_atom_types.keys())\n",
    "qm9_sizes = list(qm9_atom_types.values())\n",
    "qm9_colors = [atom_colors[atom] for atom in qm9_labels]\n",
    "\n",
    "jump_labels = list(jump_atom_types.keys())[4:]\n",
    "jump_sizes = list(jump_atom_types.values())[4:]\n",
    "jump_colors = [atom_colors[atom] for atom in jump_labels][4:]\n",
    "\n",
    "geom_labels = list(geom_atom_types.keys()) [4:]\n",
    "geom_sizes = list(geom_atom_types.values()) [4:]\n",
    "geom_colors = [atom_colors[atom] for atom in geom_labels] [4:]\n",
    "\n",
    "# Plot pie charts side by side\n",
    "fig, axes = plt.subplots(1, 2, figsize=(12, 6))\n",
    "\n",
    "# # QM9 pie chart\n",
    "# axes[0].pie(qm9_sizes, labels=qm9_labels, colors=qm9_colors, autopct='%1.1f%%', startangle=90)\n",
    "# axes[0].set_title('QM9 Atom Type Distribution')\n",
    "\n",
    "# Jump pie chart\n",
    "axes[1].pie(jump_sizes, labels=jump_labels, colors=jump_colors, autopct='%1.1f%%', startangle=90)\n",
    "axes[1].set_title('Jump Atom Type Distribution')\n",
    "# Geom pie chart\n",
    "axes[0].pie(geom_sizes, labels=geom_labels, colors=geom_colors, autopct='%1.1f%%', startangle=90)\n",
    "axes[0].set_title('Geom Atom Type Distribution')\n",
    "\n",
    "plt.tight_layout()\n",
    "plt.show()\n"
   ]
  },
  {
   "cell_type": "code",
   "execution_count": 33,
   "metadata": {},
   "outputs": [],
   "source": [
    "split_data_j = build_jump_dataset.load_split_data(args_j.data_file, val_proportion=0.1, test_proportion=0.1, filter_size=args_j.filter_molecule_size)\n",
    "device = 'cuda' if torch.cuda.is_available() else 'cpu'\n",
    "dataset_info_j = get_dataset_info(args_j.dataset, args_j.remove_h)\n",
    "transform = build_jump_dataset.JumpTransform(dataset_info_j, args_j.include_charges, device, args_j.sequential)\n",
    "dataloaders_j = {}\n",
    "for key, data_list in zip(['train', 'valid', 'test'], split_data_j):\n",
    "    dataset = build_jump_dataset.JumpDataset(data_list, transform=transform, percent_train_ds=10)\n",
    "    shuffle = (key == 'train') and not args_j.sequential\n",
    "    dataloaders_j[key] = build_jump_dataset.JumpDataLoader(\n",
    "    sequential=args_j.sequential, dataset=dataset, batch_size=args_j.batch_size,\n",
    "    shuffle=False)\n",
    "del split_data_j"
   ]
  },
  {
   "cell_type": "code",
   "execution_count": 3,
   "metadata": {},
   "outputs": [
    {
     "name": "stdout",
     "output_type": "stream",
     "text": [
      "Loading conformations from /projects/iktos/pierre/CondGeoLDM/data/geom/geom_drugs_no_h_30.npy\n",
      "Total number of conformers loaded 178971775\n"
     ]
    }
   ],
   "source": [
    "split_data_g = build_geom_dataset.load_split_data(args_g.data_file, val_proportion=0.1, test_proportion=0.1, filter_size=args_g.filter_molecule_size)\n",
    "dataset_info_g = get_dataset_info(args_g.dataset, args_g.remove_h)\n",
    "transform = build_geom_dataset.GeomDrugsTransform(dataset_info_g, args_g.include_charges, device, args_g.sequential)\n",
    "dataloaders_g = {}\n",
    "for key, data_list in zip(['train', 'val', 'test'], split_data_g):\n",
    "    dataset = build_geom_dataset.GeomDrugsDataset(data_list, transform=transform, percent_train_ds=args_g.percent_train_ds)\n",
    "    shuffle = (key == 'train') and not args_g.sequential\n",
    "\n",
    "    # Sequential dataloading disabled for now.\n",
    "    dataloaders_g[key] = build_geom_dataset.GeomDrugsDataLoader(\n",
    "        sequential=args_g.sequential, dataset=dataset, batch_size=args_g.batch_size, \n",
    "        shuffle=shuffle)\n",
    "del split_data_g"
   ]
  },
  {
   "cell_type": "code",
   "execution_count": 66,
   "metadata": {},
   "outputs": [
    {
     "name": "stdout",
     "output_type": "stream",
     "text": [
      "{'positions': tensor([[[ 6.2765,  1.7595,  1.0801],\n",
      "         [ 5.4304,  0.6472,  0.4684],\n",
      "         [ 4.4959,  1.1934, -0.6128],\n",
      "         ...,\n",
      "         [ 0.0000,  0.0000,  0.0000],\n",
      "         [ 0.0000,  0.0000,  0.0000],\n",
      "         [ 0.0000,  0.0000,  0.0000]],\n",
      "\n",
      "        [[-2.6286, -4.1097,  0.1833],\n",
      "         [-2.0857, -2.7959,  0.4267],\n",
      "         [-2.3854, -1.7693, -0.3914],\n",
      "         ...,\n",
      "         [ 0.0000,  0.0000,  0.0000],\n",
      "         [ 0.0000,  0.0000,  0.0000],\n",
      "         [ 0.0000,  0.0000,  0.0000]],\n",
      "\n",
      "        [[ 6.2121,  1.1680,  0.1803],\n",
      "         [ 4.8491,  1.5001,  0.0548],\n",
      "         [ 4.1007,  0.8289, -0.8541],\n",
      "         ...,\n",
      "         [ 0.0000,  0.0000,  0.0000],\n",
      "         [ 0.0000,  0.0000,  0.0000],\n",
      "         [ 0.0000,  0.0000,  0.0000]],\n",
      "\n",
      "        ...,\n",
      "\n",
      "        [[-0.1915, -1.8051, -1.7431],\n",
      "         [ 1.0024, -1.5682, -0.8250],\n",
      "         [ 1.5997, -2.8818, -0.3262],\n",
      "         ...,\n",
      "         [ 0.0000,  0.0000,  0.0000],\n",
      "         [ 0.0000,  0.0000,  0.0000],\n",
      "         [ 0.0000,  0.0000,  0.0000]],\n",
      "\n",
      "        [[ 2.8409,  3.1352, -1.1686],\n",
      "         [ 1.9499,  2.0108, -0.6217],\n",
      "         [ 2.5708,  0.7179, -0.4709],\n",
      "         ...,\n",
      "         [ 0.0000,  0.0000,  0.0000],\n",
      "         [ 0.0000,  0.0000,  0.0000],\n",
      "         [ 0.0000,  0.0000,  0.0000]],\n",
      "\n",
      "        [[ 4.9528,  2.3961,  0.5038],\n",
      "         [ 3.6644,  2.2083,  1.0395],\n",
      "         [ 2.7797,  3.2720,  0.7379],\n",
      "         ...,\n",
      "         [ 0.0000,  0.0000,  0.0000],\n",
      "         [ 0.0000,  0.0000,  0.0000],\n",
      "         [ 0.0000,  0.0000,  0.0000]]], dtype=torch.float64), 'one_hot': tensor([[[False,  True, False,  ..., False, False, False],\n",
      "         [False,  True, False,  ..., False, False, False],\n",
      "         [False,  True, False,  ..., False, False, False],\n",
      "         ...,\n",
      "         [False, False, False,  ..., False, False, False],\n",
      "         [False, False, False,  ..., False, False, False],\n",
      "         [False, False, False,  ..., False, False, False]],\n",
      "\n",
      "        [[False,  True, False,  ..., False, False, False],\n",
      "         [False, False,  True,  ..., False, False, False],\n",
      "         [False,  True, False,  ..., False, False, False],\n",
      "         ...,\n",
      "         [False, False, False,  ..., False, False, False],\n",
      "         [False, False, False,  ..., False, False, False],\n",
      "         [False, False, False,  ..., False, False, False]],\n",
      "\n",
      "        [[False,  True, False,  ..., False, False, False],\n",
      "         [False, False, False,  ..., False, False, False],\n",
      "         [False,  True, False,  ..., False, False, False],\n",
      "         ...,\n",
      "         [False, False, False,  ..., False, False, False],\n",
      "         [False, False, False,  ..., False, False, False],\n",
      "         [False, False, False,  ..., False, False, False]],\n",
      "\n",
      "        ...,\n",
      "\n",
      "        [[False,  True, False,  ..., False, False, False],\n",
      "         [False,  True, False,  ..., False, False, False],\n",
      "         [False,  True, False,  ..., False, False, False],\n",
      "         ...,\n",
      "         [False, False, False,  ..., False, False, False],\n",
      "         [False, False, False,  ..., False, False, False],\n",
      "         [False, False, False,  ..., False, False, False]],\n",
      "\n",
      "        [[False,  True, False,  ..., False, False, False],\n",
      "         [False,  True, False,  ..., False, False, False],\n",
      "         [False, False,  True,  ..., False, False, False],\n",
      "         ...,\n",
      "         [False, False, False,  ..., False, False, False],\n",
      "         [False, False, False,  ..., False, False, False],\n",
      "         [False, False, False,  ..., False, False, False]],\n",
      "\n",
      "        [[False,  True, False,  ..., False, False, False],\n",
      "         [False, False, False,  ..., False, False, False],\n",
      "         [False,  True, False,  ..., False, False, False],\n",
      "         ...,\n",
      "         [False, False, False,  ..., False, False, False],\n",
      "         [False, False, False,  ..., False, False, False],\n",
      "         [False, False, False,  ..., False, False, False]]]), 'charges': tensor([], device='cuda:0', size=(32, 0)), 'atom_mask': tensor([[1., 1., 1.,  ..., 0., 0., 0.],\n",
      "        [1., 1., 1.,  ..., 0., 0., 0.],\n",
      "        [1., 1., 1.,  ..., 0., 0., 0.],\n",
      "        ...,\n",
      "        [1., 1., 1.,  ..., 0., 0., 0.],\n",
      "        [1., 1., 1.,  ..., 0., 0., 0.],\n",
      "        [1., 1., 1.,  ..., 0., 0., 0.]], device='cuda:0'), 'edge_mask': tensor([[0.],\n",
      "        [1.],\n",
      "        [1.],\n",
      "        ...,\n",
      "        [0.],\n",
      "        [0.],\n",
      "        [0.]], device='cuda:0')}\n"
     ]
    }
   ],
   "source": [
    "next_iter_j = next(iter(dataloaders_j['train']))\n",
    "next_iter_g = next(iter(dataloaders_g['train']))\n",
    "# print(next_iter_j)\n",
    "# print(next_iter_g)\n",
    "print(next_iter_g)"
   ]
  },
  {
   "cell_type": "markdown",
   "metadata": {},
   "source": [
    "## Statistics on Jump and Geom"
   ]
  },
  {
   "cell_type": "code",
   "execution_count": null,
   "metadata": {},
   "outputs": [],
   "source": [
    "import torch\n",
    "import numpy as np\n",
    "from tqdm import tqdm\n",
    "\n",
    "def compute_dataset_position_statistics(dataloader, position_key='positions', \n",
    "                                       mask_key='atom_mask', bin_size=0.2):\n",
    "    \"\"\"\n",
    "    Compute position statistics with fixed bin ranges for histograms\n",
    "    \"\"\"\n",
    "    # Initialize accumulators\n",
    "    all_x = []\n",
    "    all_y = []\n",
    "    all_z = []\n",
    "    total_valid = 0\n",
    "    batches = 0\n",
    "    # First pass: collect all non_zero values to determine global range\n",
    "    for batch in tqdm(dataloader, desc=\"Collecting data range\"):\n",
    "        positions = batch[position_key].cpu().float()\n",
    "        atom_mask = batch[mask_key].cpu().bool()\n",
    "        \n",
    "        valid_mask = atom_mask.flatten()\n",
    "        x_vals = positions[..., 0].flatten()[valid_mask]\n",
    "        y_vals = positions[..., 1].flatten()[valid_mask]\n",
    "        z_vals = positions[..., 2].flatten()[valid_mask]\n",
    "        all_x.append(x_vals)\n",
    "        all_y.append(y_vals)\n",
    "        all_z.append(z_vals)\n",
    "        \n",
    "        total_valid += valid_mask.sum().item()\n",
    "        batches += 1\n",
    "\n",
    "    # Concatenate all values\n",
    "    x_vals = torch.cat(all_x) if all_x else torch.tensor([])\n",
    "    y_vals = torch.cat(all_y) if all_y else torch.tensor([])\n",
    "    z_vals = torch.cat(all_z) if all_z else torch.tensor([])\n",
    "    all_vals = torch.cat([x_vals, y_vals, z_vals]) if total_valid > 0 else torch.tensor([])\n",
    "    \n",
    "    # Calculate global min/max for consistent binning\n",
    "    global_min = min(\n",
    "        x_vals.min().item() if x_vals.numel() > 0 else 0,\n",
    "        y_vals.min().item() if y_vals.numel() > 0 else 0,\n",
    "        z_vals.min().item() if z_vals.numel() > 0 else 0\n",
    "    )\n",
    "    global_max = max(\n",
    "        x_vals.max().item() if x_vals.numel() > 0 else 0,\n",
    "        y_vals.max().item() if y_vals.numel() > 0 else 0,\n",
    "        z_vals.max().item() if z_vals.numel() > 0 else 0\n",
    "    )\n",
    "    \n",
    "    # Create consistent bin edges\n",
    "    bin_edges = np.arange(global_min, global_max + bin_size, bin_size)\n",
    "    \n",
    "    # Compute histograms\n",
    "    def compute_histogram(vals):\n",
    "        if vals.numel() == 0:\n",
    "            return np.zeros(len(bin_edges)-1)\n",
    "        hist, _ = np.histogram(vals.numpy(), bins=bin_edges)\n",
    "        return hist\n",
    "\n",
    "    x_hist = compute_histogram(x_vals)\n",
    "    y_hist = compute_histogram(y_vals)\n",
    "    z_hist = compute_histogram(z_vals)\n",
    "    \n",
    "    # Helper function to compute statistics\n",
    "    def compute_stats(tensor):\n",
    "        if tensor.numel() == 0:\n",
    "            return None\n",
    "        tensor_np = tensor.numpy()\n",
    "        return {\n",
    "            'mean': np.mean(tensor_np),\n",
    "            'std': np.std(tensor_np),\n",
    "            'min': np.min(tensor_np),\n",
    "            'max': np.max(tensor_np),\n",
    "            'median': np.median(tensor_np),\n",
    "            'q1': np.quantile(tensor_np, 0.25),\n",
    "            'q3': np.quantile(tensor_np, 0.75),\n",
    "            'count': len(tensor_np)\n",
    "        }\n",
    "    \n",
    "    # Compute statistics\n",
    "    stats = {\n",
    "        'overall': compute_stats(all_vals),\n",
    "        'x': compute_stats(x_vals),\n",
    "        'y': compute_stats(y_vals),\n",
    "        'z': compute_stats(z_vals),\n",
    "        'total_valid_atoms': total_valid,\n",
    "        'batches_processed': batches,\n",
    "        'x_hist_counts': x_hist,\n",
    "        'y_hist_counts': y_hist,\n",
    "        'z_hist_counts': z_hist,\n",
    "        'bin_edges': bin_edges\n",
    "    }\n",
    "    \n",
    "    return stats"
   ]
  },
  {
   "cell_type": "code",
   "execution_count": 61,
   "metadata": {},
   "outputs": [],
   "source": [
    "import matplotlib.pyplot as plt\n",
    "from matplotlib.gridspec import GridSpec\n",
    "\n",
    "def plot_position_statistics(stats_dict, dataset_name=\"\", bin_size=0.2):\n",
    "    \"\"\"\n",
    "    Visualize position statistics with fixed bin handling\n",
    "    \"\"\"\n",
    "    if not stats_dict['overall']:\n",
    "        print(\"No valid position data found\")\n",
    "        return\n",
    "\n",
    "    # Extract statistics\n",
    "    overall = stats_dict['overall']\n",
    "    x_stats = stats_dict['x']\n",
    "    y_stats = stats_dict['y']\n",
    "    z_stats = stats_dict['z']\n",
    "    total_atoms = stats_dict['total_valid_atoms']\n",
    "    batches = stats_dict['batches_processed']\n",
    "    \n",
    "    # Get histogram data\n",
    "    bin_edges = stats_dict['bin_edges']\n",
    "    x_hist = stats_dict['x_hist_counts']\n",
    "    y_hist = stats_dict['y_hist_counts']\n",
    "    z_hist = stats_dict['z_hist_counts']\n",
    "    \n",
    "    # Create figure\n",
    "    fig = plt.figure(figsize=(16, 12), dpi=100)\n",
    "    fig.suptitle(f\"Position Statistics - {dataset_name}\\n\"\n",
    "                 f\"Total Atoms: {total_atoms:,} | Batches: {batches}\", \n",
    "                 fontsize=16, fontweight='bold')\n",
    "    \n",
    "    gs = GridSpec(3, 3, figure=fig)\n",
    "    \n",
    "    # 1. Summary Statistics Table\n",
    "    ax_table = fig.add_subplot(gs[0, 0])\n",
    "    ax_table.axis('off')\n",
    "    \n",
    "    table_data = [\n",
    "        [\"\", \"Overall\", \"X\", \"Y\", \"Z\"],\n",
    "        [\"Mean\", f\"{overall['mean']:.4f}\", f\"{x_stats['mean']:.4f}\", \n",
    "         f\"{y_stats['mean']:.4f}\", f\"{z_stats['mean']:.4f}\"],\n",
    "        [\"Std Dev\", f\"{overall['std']:.4f}\", f\"{x_stats['std']:.4f}\", \n",
    "         f\"{y_stats['std']:.4f}\", f\"{z_stats['std']:.4f}\"],\n",
    "        [\"Min\", f\"{overall['min']:.4f}\", f\"{x_stats['min']:.4f}\", \n",
    "         f\"{y_stats['min']:.4f}\", f\"{z_stats['min']:.4f}\"],\n",
    "        [\"Max\", f\"{overall['max']:.4f}\", f\"{x_stats['max']:.4f}\", \n",
    "         f\"{y_stats['max']:.4f}\", f\"{z_stats['max']:.4f}\"],\n",
    "        [\"Median\", f\"{overall['median']:.4f}\", f\"{x_stats['median']:.4f}\", \n",
    "         f\"{y_stats['median']:.4f}\", f\"{z_stats['median']:.4f}\"],\n",
    "        [\"Count\", f\"{overall['count']:,}\", f\"{x_stats['count']:,}\", \n",
    "         f\"{y_stats['count']:,}\", f\"{z_stats['count']:,}\"]\n",
    "    ]\n",
    "    \n",
    "    table = ax_table.table(cellText=table_data, \n",
    "                           loc='center', \n",
    "                           cellLoc='center',\n",
    "                           colWidths=[0.15, 0.2, 0.2, 0.2, 0.2])\n",
    "    table.auto_set_font_size(False)\n",
    "    table.set_fontsize(10)\n",
    "    table.scale(1, 1.5)\n",
    "    ax_table.set_title(\"Summary Statistics\", fontsize=12, pad=20)\n",
    "    \n",
    "    # 2. Combined Histograms (FIXED)\n",
    "    ax_combined = fig.add_subplot(gs[0, 1:])\n",
    "    \n",
    "    # Use consistent bin centers\n",
    "    bin_centers = bin_edges[:-1] + bin_size/2\n",
    "    \n",
    "    for hist, color, label in zip([x_hist, y_hist, z_hist], \n",
    "                                 ['#1f77b4', '#ff7f0e', '#2ca02c'], \n",
    "                                 ['X-axis', 'Y-axis', 'Z-axis']):\n",
    "        ax_combined.bar(bin_centers, hist, width=bin_size*0.8, \n",
    "                        alpha=0.7, label=label, color=color,\n",
    "                        edgecolor='none')\n",
    "    \n",
    "    ax_combined.axvline(overall['mean'], color='r', linestyle='--', \n",
    "                        label=f\"Overall Mean: {overall['mean']:.2f}\")\n",
    "    ax_combined.set_title(\"Coordinate Distributions\", fontsize=12)\n",
    "    ax_combined.set_xlabel(\"Coordinate Value\")\n",
    "    ax_combined.set_ylabel(\"Frequency (log scale)\")\n",
    "    ax_combined.set_yscale('log')\n",
    "    ax_combined.legend()\n",
    "    ax_combined.grid(alpha=0.2)\n",
    "    \n",
    "    # 3. Per-Axis Plots (FIXED)\n",
    "    axes = ['x', 'y', 'z']\n",
    "    colors = ['#1f77b4', '#ff7f0e', '#2ca02c']\n",
    "    titles = ['X-Axis Distribution', 'Y-Axis Distribution', 'Z-Axis Distribution']\n",
    "    hists = [x_hist, y_hist, z_hist]\n",
    "    stats_list = [x_stats, y_stats, z_stats]\n",
    "    \n",
    "    for i, (axis, color, title, hist, stats) in enumerate(zip(\n",
    "            axes, colors, titles, hists, stats_list)):\n",
    "        \n",
    "        ax = fig.add_subplot(gs[1, i])\n",
    "        bin_centers = bin_edges[:-1] + bin_size/2\n",
    "        \n",
    "        ax.bar(bin_centers, hist, width=bin_size*0.8, \n",
    "               alpha=0.8, color=color, edgecolor='none')\n",
    "        \n",
    "        ax.axvline(stats['mean'], color='r', linestyle='-', \n",
    "                   label=f\"Mean: {stats['mean']:.2f}\")\n",
    "        ax.axvline(stats['median'], color='g', linestyle='-', \n",
    "                   label=f\"Median: {stats['median']:.2f}\")\n",
    "        \n",
    "        ax.axvline(stats['q1'], color='b', linestyle=':', alpha=0.7)\n",
    "        ax.axvline(stats['q3'], color='b', linestyle=':', alpha=0.7)\n",
    "        ax.axvspan(stats['q1'], stats['q3'], alpha=0.1, color=color)\n",
    "        \n",
    "        ax.set_title(title, fontsize=12)\n",
    "        ax.set_xlabel(\"Coordinate Value\")\n",
    "        ax.set_ylabel(\"Frequency\")\n",
    "        ax.legend(loc='upper right')\n",
    "        ax.grid(alpha=0.1)\n",
    "\n",
    "    \n",
    "    plt.tight_layout(rect=[0, 0, 1, 0.95])\n",
    "    plt.savefig(f\"position_stats_{dataset_name}.png\", bbox_inches='tight')\n",
    "\n",
    "    plt.show()"
   ]
  },
  {
   "cell_type": "code",
   "execution_count": null,
   "metadata": {},
   "outputs": [],
   "source": [
    "jump_stats_j = compute_dataset_position_statistics((dataloaders_j['train']))\n",
    "plot_position_statistics(jump_stats_j, dataset_name='Jump Dataset', bin_size=0.2)\n",
    "geom_stats_g = compute_dataset_position_statistics((dataloaders_g['train']))\n",
    "plot_position_statistics(geom_stats_g, dataset_name='Geom Dataset', bin_size=0.2)"
   ]
  },
  {
   "cell_type": "markdown",
   "metadata": {},
   "source": [
    "### Umap on both DS"
   ]
  },
  {
   "cell_type": "code",
   "execution_count": 3,
   "metadata": {},
   "outputs": [
    {
     "name": "stderr",
     "output_type": "stream",
     "text": [
      "Processing Geom Data (eta 1,5 min): 292035it [01:05, 4433.26it/s]\n",
      "Processing Jump Data:  14%|█▍        | 15903/112360 [00:08<00:50, 1892.72it/s][14:19:43] WARNING:  Problems/mismatches: Mobile-H( Mobile-H groups: Attachment points, Number)\n",
      "\n",
      "Processing Jump Data:  16%|█▋        | 18494/112360 [00:09<00:47, 1993.78it/s][14:19:44] WARNING:  Problems/mismatches: Mobile-H( Mobile-H groups: Attachment points, Number)\n",
      "\n",
      "Processing Jump Data:  17%|█▋        | 18893/112360 [00:10<00:47, 1983.94it/s][14:19:45] WARNING:  Problems/mismatches: Mobile-H( Mobile-H groups: Attachment points, Number)\n",
      "\n",
      "Processing Jump Data:  17%|█▋        | 19092/112360 [00:10<00:47, 1974.64it/s][14:19:45] WARNING:  Problems/mismatches: Mobile-H( Mobile-H groups: Attachment points, Number)\n",
      "\n",
      "Processing Jump Data:  44%|████▍     | 49618/112360 [00:26<00:34, 1803.64it/s][14:20:01] WARNING:  Problems/mismatches: Mobile-H( Mobile-H groups: Attachment points, Number)\n",
      "\n",
      "Processing Jump Data:  70%|███████   | 78816/112360 [00:42<00:17, 1875.12it/s][14:20:17] WARNING:  Problems/mismatches: Mobile-H( Hydrogens: Number; Mobile-H groups: Missing, Attachment points; Charge(s): Do not match; Proton balance: Does not match)\n",
      "\n",
      "Processing Jump Data:  89%|████████▉ | 100265/112360 [00:54<00:06, 1866.61it/s][14:20:29] WARNING:  Problems/mismatches: Mobile-H( Mobile-H groups: Attachment points, Number)\n",
      "\n",
      "Processing Jump Data:  96%|█████████▌| 108027/112360 [00:58<00:02, 1785.02it/s][14:20:33] WARNING:  Problems/mismatches: Mobile-H( Hydrogens: Locations or number, Number; Mobile-H groups: One instead of multiple, Attachment points, Number; Charge(s): Do not match)\n",
      "\n",
      "Processing Jump Data:  97%|█████████▋| 108749/112360 [00:58<00:02, 1768.03it/s][14:20:33] WARNING:  Problems/mismatches: Mobile-H( Hydrogens: Locations or number, Number; Mobile-H groups: One instead of multiple, Attachment points, Number; Charge(s): Do not match; Proton balance: Does not match)\n",
      "\n",
      "Processing Jump Data:  97%|█████████▋| 109106/112360 [00:58<00:01, 1772.50it/s][14:20:33] WARNING:  Problems/mismatches: Mobile-H( Hydrogens: Locations or number, Number; Mobile-H groups: One instead of multiple, Attachment points, Number; Charge(s): Do not match)\n",
      "\n",
      "Processing Jump Data:  98%|█████████▊| 109998/112360 [00:59<00:01, 1776.21it/s][14:20:34] WARNING:  Problems/mismatches: Mobile-H( Mobile-H groups: Multiple instead of one, Number)\n",
      "\n",
      "Processing Jump Data:  98%|█████████▊| 110176/112360 [00:59<00:01, 1762.24it/s][14:20:34] WARNING:  Problems/mismatches: Mobile-H( Mobile-H groups: One instead of multiple, Attachment points, Number)\n",
      "\n",
      "Processing Jump Data:  99%|█████████▊| 110712/112360 [00:59<00:00, 1772.55it/s][14:20:34] WARNING:  Problems/mismatches: Mobile-H( Hydrogens: Locations or number, Number; Charge(s): Do not match)\n",
      "\n",
      "Processing Jump Data:  99%|█████████▉| 111240/112360 [01:00<00:00, 1735.13it/s][14:20:35] WARNING:  Problems/mismatches: Mobile-H( Hydrogens: Locations or number; Mobile-H groups: Attachment points, Number)\n",
      "\n",
      "Processing Jump Data:  99%|█████████▉| 111414/112360 [01:00<00:00, 1700.28it/s][14:20:35] WARNING:  Problems/mismatches: Mobile-H( Mobile-H groups: Attachment points, Number)\n",
      "\n",
      "[14:20:35] WARNING:  Problems/mismatches: Mobile-H( Hydrogens: Number; Mobile-H groups: One instead of multiple, Number; Charge(s): Do not match; Proton balance: Does not match)\n",
      "\n",
      "Processing Jump Data:  99%|█████████▉| 111585/112360 [01:00<00:00, 1697.49it/s][14:20:35] Unusual charge on atom 3 number of radical electrons set to zero\n",
      "[14:20:35] WARNING:  Problems/mismatches: Mobile-H( Hydrogens: Locations or number; Mobile-H groups: Missing, Attachment points)\n",
      "\n",
      "Processing Jump Data:  99%|█████████▉| 111755/112360 [01:00<00:00, 1681.23it/s][14:20:35] WARNING:  Problems/mismatches: Mobile-H( Hydrogens: Number; Mobile-H groups: One instead of multiple, Attachment points, Number; Charge(s): Do not match)\n",
      "\n",
      "Processing Jump Data: 100%|██████████| 112360/112360 [01:00<00:00, 1850.98it/s]\n"
     ]
    }
   ],
   "source": [
    "from rdkit import Chem, DataStructs\n",
    "from rdkit.Chem import rdFingerprintGenerator\n",
    "import numpy as np\n",
    "import tqdm\n",
    "\n",
    "radius = 2\n",
    "n_bits = 2048\n",
    "\n",
    "generator = rdFingerprintGenerator.GetMorganGenerator(radius=radius, fpSize=n_bits)\n",
    "\n",
    "fingerprints_g = []\n",
    "valid_smiles_g = []\n",
    "valid_smiles_j = []\n",
    "\n",
    "with open('/projects/iktos/pierre/CondGeoLDM/data/geom/geom_drugs_smiles.txt', \"r\") as f:\n",
    "    for line in tqdm.tqdm(f, desc=\"Processing Geom Data (eta 1,5 min)\"):\n",
    "        smi = line.strip()\n",
    "        mol = Chem.MolFromSmiles(smi)\n",
    "        if mol is None:\n",
    "            continue\n",
    "        fp = generator.GetFingerprint(mol)\n",
    "        # arr = np.zeros((n_bits,), dtype=int)\n",
    "        # DataStructs.ConvertToNumpyArray(fp, arr)\n",
    "        # fingerprints_g.append(arr)\n",
    "        # valid_smiles_g.append(smi)\n",
    "        fingerprints_g. append(fp)\n",
    "        \n",
    "fingerprints_j = []\n",
    "for mol in tqdm.tqdm(charac, desc=\"Processing Jump Data\"):\n",
    "    inchi = mol[\"Inchi\"]\n",
    "    mol = Chem.MolFromInchi(inchi)\n",
    "    if mol is None:\n",
    "        continue\n",
    "    fp = generator.GetFingerprint(mol)\n",
    "    # arr = np.zeros((n_bits,), dtype=int)\n",
    "    # DataStructs.ConvertToNumpyArray(fp, arr)\n",
    "    # fingerprints_j.append(arr)\n",
    "    # valid_smiles_j.append(inchi)\n",
    "    fingerprints_j.append(fp)\n",
    "    \n",
    "# np.save(\"geom_fingerprints.npy\", fingerprints_g)\n",
    "# np.save(\"jump_fingerprints.npy\", fingerprints_j)\n",
    "# fingerprints_j = np.load(\"/projects/iktos/pierre/CondGeoLDM/data/jump_data/jump_fingerprints.npy\", allow_pickle=True)\n",
    "# fingerprints_g = np.load(\"/projects/iktos/pierre/CondGeoLDM/data/jump_data/geom_fingerprints.npy\", allow_pickle=True)"
   ]
  },
  {
   "cell_type": "code",
   "execution_count": null,
   "metadata": {},
   "outputs": [
    {
     "name": "stderr",
     "output_type": "stream",
     "text": [
      "/projects/iktos/pierre/CondGeoLDM/.venv/lib/python3.9/site-packages/sklearn/utils/deprecation.py:151: FutureWarning: 'force_all_finite' was renamed to 'ensure_all_finite' in 1.6 and will be removed in 1.8.\n",
      "  warnings.warn(\n"
     ]
    },
    {
     "ename": "KeyboardInterrupt",
     "evalue": "",
     "output_type": "error",
     "traceback": [
      "\u001b[0;31m---------------------------------------------------------------------------\u001b[0m",
      "\u001b[0;31mKeyboardInterrupt\u001b[0m                         Traceback (most recent call last)",
      "Input \u001b[0;32mIn [3]\u001b[0m, in \u001b[0;36m<cell line: 15>\u001b[0;34m()\u001b[0m\n\u001b[1;32m     16\u001b[0m     x, y \u001b[38;5;241m=\u001b[39m X_umap_shuffled[i]\n\u001b[1;32m     17\u001b[0m     label \u001b[38;5;241m=\u001b[39m labels_shuffled[i]\n\u001b[0;32m---> 18\u001b[0m     \u001b[43mplt\u001b[49m\u001b[38;5;241;43m.\u001b[39;49m\u001b[43mscatter\u001b[49m\u001b[43m(\u001b[49m\u001b[43mx\u001b[49m\u001b[43m,\u001b[49m\u001b[43m \u001b[49m\u001b[43my\u001b[49m\u001b[43m,\u001b[49m\u001b[43m \u001b[49m\u001b[43mc\u001b[49m\u001b[38;5;241;43m=\u001b[39;49m\u001b[43mcolors\u001b[49m\u001b[43m[\u001b[49m\u001b[43mlabel\u001b[49m\u001b[43m]\u001b[49m\u001b[43m,\u001b[49m\u001b[43m \u001b[49m\u001b[43malpha\u001b[49m\u001b[38;5;241;43m=\u001b[39;49m\u001b[38;5;241;43m0.7\u001b[39;49m\u001b[43m,\u001b[49m\u001b[43m \u001b[49m\u001b[43ms\u001b[49m\u001b[38;5;241;43m=\u001b[39;49m\u001b[38;5;241;43m20\u001b[39;49m\u001b[43m)\u001b[49m\n\u001b[1;32m     19\u001b[0m plt\u001b[38;5;241m.\u001b[39mtitle(\u001b[38;5;124m'\u001b[39m\u001b[38;5;124mUMAP Projection of Jump and Geom Fingerprints\u001b[39m\u001b[38;5;124m'\u001b[39m)\n\u001b[1;32m     20\u001b[0m plt\u001b[38;5;241m.\u001b[39mxlabel(\u001b[38;5;124m'\u001b[39m\u001b[38;5;124mUMAP 1\u001b[39m\u001b[38;5;124m'\u001b[39m)\n",
      "File \u001b[0;32m/projects/iktos/pierre/CondGeoLDM/.venv/lib/python3.9/site-packages/matplotlib/pyplot.py:2819\u001b[0m, in \u001b[0;36mscatter\u001b[0;34m(x, y, s, c, marker, cmap, norm, vmin, vmax, alpha, linewidths, edgecolors, plotnonfinite, data, **kwargs)\u001b[0m\n\u001b[1;32m   2814\u001b[0m \u001b[38;5;129m@_copy_docstring_and_deprecators\u001b[39m(Axes\u001b[38;5;241m.\u001b[39mscatter)\n\u001b[1;32m   2815\u001b[0m \u001b[38;5;28;01mdef\u001b[39;00m \u001b[38;5;21mscatter\u001b[39m(\n\u001b[1;32m   2816\u001b[0m         x, y, s\u001b[38;5;241m=\u001b[39m\u001b[38;5;28;01mNone\u001b[39;00m, c\u001b[38;5;241m=\u001b[39m\u001b[38;5;28;01mNone\u001b[39;00m, marker\u001b[38;5;241m=\u001b[39m\u001b[38;5;28;01mNone\u001b[39;00m, cmap\u001b[38;5;241m=\u001b[39m\u001b[38;5;28;01mNone\u001b[39;00m, norm\u001b[38;5;241m=\u001b[39m\u001b[38;5;28;01mNone\u001b[39;00m,\n\u001b[1;32m   2817\u001b[0m         vmin\u001b[38;5;241m=\u001b[39m\u001b[38;5;28;01mNone\u001b[39;00m, vmax\u001b[38;5;241m=\u001b[39m\u001b[38;5;28;01mNone\u001b[39;00m, alpha\u001b[38;5;241m=\u001b[39m\u001b[38;5;28;01mNone\u001b[39;00m, linewidths\u001b[38;5;241m=\u001b[39m\u001b[38;5;28;01mNone\u001b[39;00m, \u001b[38;5;241m*\u001b[39m,\n\u001b[1;32m   2818\u001b[0m         edgecolors\u001b[38;5;241m=\u001b[39m\u001b[38;5;28;01mNone\u001b[39;00m, plotnonfinite\u001b[38;5;241m=\u001b[39m\u001b[38;5;28;01mFalse\u001b[39;00m, data\u001b[38;5;241m=\u001b[39m\u001b[38;5;28;01mNone\u001b[39;00m, \u001b[38;5;241m*\u001b[39m\u001b[38;5;241m*\u001b[39mkwargs):\n\u001b[0;32m-> 2819\u001b[0m     __ret \u001b[38;5;241m=\u001b[39m \u001b[43mgca\u001b[49m\u001b[43m(\u001b[49m\u001b[43m)\u001b[49m\u001b[38;5;241;43m.\u001b[39;49m\u001b[43mscatter\u001b[49m\u001b[43m(\u001b[49m\n\u001b[1;32m   2820\u001b[0m \u001b[43m        \u001b[49m\u001b[43mx\u001b[49m\u001b[43m,\u001b[49m\u001b[43m \u001b[49m\u001b[43my\u001b[49m\u001b[43m,\u001b[49m\u001b[43m \u001b[49m\u001b[43ms\u001b[49m\u001b[38;5;241;43m=\u001b[39;49m\u001b[43ms\u001b[49m\u001b[43m,\u001b[49m\u001b[43m \u001b[49m\u001b[43mc\u001b[49m\u001b[38;5;241;43m=\u001b[39;49m\u001b[43mc\u001b[49m\u001b[43m,\u001b[49m\u001b[43m \u001b[49m\u001b[43mmarker\u001b[49m\u001b[38;5;241;43m=\u001b[39;49m\u001b[43mmarker\u001b[49m\u001b[43m,\u001b[49m\u001b[43m \u001b[49m\u001b[43mcmap\u001b[49m\u001b[38;5;241;43m=\u001b[39;49m\u001b[43mcmap\u001b[49m\u001b[43m,\u001b[49m\u001b[43m \u001b[49m\u001b[43mnorm\u001b[49m\u001b[38;5;241;43m=\u001b[39;49m\u001b[43mnorm\u001b[49m\u001b[43m,\u001b[49m\n\u001b[1;32m   2821\u001b[0m \u001b[43m        \u001b[49m\u001b[43mvmin\u001b[49m\u001b[38;5;241;43m=\u001b[39;49m\u001b[43mvmin\u001b[49m\u001b[43m,\u001b[49m\u001b[43m \u001b[49m\u001b[43mvmax\u001b[49m\u001b[38;5;241;43m=\u001b[39;49m\u001b[43mvmax\u001b[49m\u001b[43m,\u001b[49m\u001b[43m \u001b[49m\u001b[43malpha\u001b[49m\u001b[38;5;241;43m=\u001b[39;49m\u001b[43malpha\u001b[49m\u001b[43m,\u001b[49m\u001b[43m \u001b[49m\u001b[43mlinewidths\u001b[49m\u001b[38;5;241;43m=\u001b[39;49m\u001b[43mlinewidths\u001b[49m\u001b[43m,\u001b[49m\n\u001b[1;32m   2822\u001b[0m \u001b[43m        \u001b[49m\u001b[43medgecolors\u001b[49m\u001b[38;5;241;43m=\u001b[39;49m\u001b[43medgecolors\u001b[49m\u001b[43m,\u001b[49m\u001b[43m \u001b[49m\u001b[43mplotnonfinite\u001b[49m\u001b[38;5;241;43m=\u001b[39;49m\u001b[43mplotnonfinite\u001b[49m\u001b[43m,\u001b[49m\n\u001b[1;32m   2823\u001b[0m \u001b[43m        \u001b[49m\u001b[38;5;241;43m*\u001b[39;49m\u001b[38;5;241;43m*\u001b[39;49m\u001b[43m(\u001b[49m\u001b[43m{\u001b[49m\u001b[38;5;124;43m\"\u001b[39;49m\u001b[38;5;124;43mdata\u001b[39;49m\u001b[38;5;124;43m\"\u001b[39;49m\u001b[43m:\u001b[49m\u001b[43m \u001b[49m\u001b[43mdata\u001b[49m\u001b[43m}\u001b[49m\u001b[43m \u001b[49m\u001b[38;5;28;43;01mif\u001b[39;49;00m\u001b[43m \u001b[49m\u001b[43mdata\u001b[49m\u001b[43m \u001b[49m\u001b[38;5;129;43;01mis\u001b[39;49;00m\u001b[43m \u001b[49m\u001b[38;5;129;43;01mnot\u001b[39;49;00m\u001b[43m \u001b[49m\u001b[38;5;28;43;01mNone\u001b[39;49;00m\u001b[43m \u001b[49m\u001b[38;5;28;43;01melse\u001b[39;49;00m\u001b[43m \u001b[49m\u001b[43m{\u001b[49m\u001b[43m}\u001b[49m\u001b[43m)\u001b[49m\u001b[43m,\u001b[49m\u001b[43m \u001b[49m\u001b[38;5;241;43m*\u001b[39;49m\u001b[38;5;241;43m*\u001b[39;49m\u001b[43mkwargs\u001b[49m\u001b[43m)\u001b[49m\n\u001b[1;32m   2824\u001b[0m     sci(__ret)\n\u001b[1;32m   2825\u001b[0m     \u001b[38;5;28;01mreturn\u001b[39;00m __ret\n",
      "File \u001b[0;32m/projects/iktos/pierre/CondGeoLDM/.venv/lib/python3.9/site-packages/matplotlib/__init__.py:1412\u001b[0m, in \u001b[0;36m_preprocess_data.<locals>.inner\u001b[0;34m(ax, data, *args, **kwargs)\u001b[0m\n\u001b[1;32m   1409\u001b[0m \u001b[38;5;129m@functools\u001b[39m\u001b[38;5;241m.\u001b[39mwraps(func)\n\u001b[1;32m   1410\u001b[0m \u001b[38;5;28;01mdef\u001b[39;00m \u001b[38;5;21minner\u001b[39m(ax, \u001b[38;5;241m*\u001b[39margs, data\u001b[38;5;241m=\u001b[39m\u001b[38;5;28;01mNone\u001b[39;00m, \u001b[38;5;241m*\u001b[39m\u001b[38;5;241m*\u001b[39mkwargs):\n\u001b[1;32m   1411\u001b[0m     \u001b[38;5;28;01mif\u001b[39;00m data \u001b[38;5;129;01mis\u001b[39;00m \u001b[38;5;28;01mNone\u001b[39;00m:\n\u001b[0;32m-> 1412\u001b[0m         \u001b[38;5;28;01mreturn\u001b[39;00m \u001b[43mfunc\u001b[49m\u001b[43m(\u001b[49m\u001b[43max\u001b[49m\u001b[43m,\u001b[49m\u001b[43m \u001b[49m\u001b[38;5;241;43m*\u001b[39;49m\u001b[38;5;28;43mmap\u001b[39;49m\u001b[43m(\u001b[49m\u001b[43msanitize_sequence\u001b[49m\u001b[43m,\u001b[49m\u001b[43m \u001b[49m\u001b[43margs\u001b[49m\u001b[43m)\u001b[49m\u001b[43m,\u001b[49m\u001b[43m \u001b[49m\u001b[38;5;241;43m*\u001b[39;49m\u001b[38;5;241;43m*\u001b[39;49m\u001b[43mkwargs\u001b[49m\u001b[43m)\u001b[49m\n\u001b[1;32m   1414\u001b[0m     bound \u001b[38;5;241m=\u001b[39m new_sig\u001b[38;5;241m.\u001b[39mbind(ax, \u001b[38;5;241m*\u001b[39margs, \u001b[38;5;241m*\u001b[39m\u001b[38;5;241m*\u001b[39mkwargs)\n\u001b[1;32m   1415\u001b[0m     auto_label \u001b[38;5;241m=\u001b[39m (bound\u001b[38;5;241m.\u001b[39marguments\u001b[38;5;241m.\u001b[39mget(label_namer)\n\u001b[1;32m   1416\u001b[0m                   \u001b[38;5;129;01mor\u001b[39;00m bound\u001b[38;5;241m.\u001b[39mkwargs\u001b[38;5;241m.\u001b[39mget(label_namer))\n",
      "File \u001b[0;32m/projects/iktos/pierre/CondGeoLDM/.venv/lib/python3.9/site-packages/matplotlib/axes/_axes.py:4480\u001b[0m, in \u001b[0;36mAxes.scatter\u001b[0;34m(self, x, y, s, c, marker, cmap, norm, vmin, vmax, alpha, linewidths, edgecolors, plotnonfinite, **kwargs)\u001b[0m\n\u001b[1;32m   4477\u001b[0m     \u001b[38;5;28;01mif\u001b[39;00m \u001b[38;5;28mself\u001b[39m\u001b[38;5;241m.\u001b[39m_ymargin \u001b[38;5;241m<\u001b[39m \u001b[38;5;241m0.05\u001b[39m \u001b[38;5;129;01mand\u001b[39;00m x\u001b[38;5;241m.\u001b[39msize \u001b[38;5;241m>\u001b[39m \u001b[38;5;241m0\u001b[39m:\n\u001b[1;32m   4478\u001b[0m         \u001b[38;5;28mself\u001b[39m\u001b[38;5;241m.\u001b[39mset_ymargin(\u001b[38;5;241m0.05\u001b[39m)\n\u001b[0;32m-> 4480\u001b[0m \u001b[38;5;28;43mself\u001b[39;49m\u001b[38;5;241;43m.\u001b[39;49m\u001b[43madd_collection\u001b[49m\u001b[43m(\u001b[49m\u001b[43mcollection\u001b[49m\u001b[43m)\u001b[49m\n\u001b[1;32m   4481\u001b[0m \u001b[38;5;28mself\u001b[39m\u001b[38;5;241m.\u001b[39m_request_autoscale_view()\n\u001b[1;32m   4483\u001b[0m \u001b[38;5;28;01mreturn\u001b[39;00m collection\n",
      "File \u001b[0;32m/projects/iktos/pierre/CondGeoLDM/.venv/lib/python3.9/site-packages/matplotlib/axes/_base.py:2247\u001b[0m, in \u001b[0;36m_AxesBase.add_collection\u001b[0;34m(self, collection, autolim)\u001b[0m\n\u001b[1;32m   2242\u001b[0m     collection\u001b[38;5;241m.\u001b[39mset_clip_path(\u001b[38;5;28mself\u001b[39m\u001b[38;5;241m.\u001b[39mpatch)\n\u001b[1;32m   2244\u001b[0m \u001b[38;5;28;01mif\u001b[39;00m autolim:\n\u001b[1;32m   2245\u001b[0m     \u001b[38;5;66;03m# Make sure viewLim is not stale (mostly to match\u001b[39;00m\n\u001b[1;32m   2246\u001b[0m     \u001b[38;5;66;03m# pre-lazy-autoscale behavior, which is not really better).\u001b[39;00m\n\u001b[0;32m-> 2247\u001b[0m     \u001b[38;5;28;43mself\u001b[39;49m\u001b[38;5;241;43m.\u001b[39;49m\u001b[43m_unstale_viewLim\u001b[49m\u001b[43m(\u001b[49m\u001b[43m)\u001b[49m\n\u001b[1;32m   2248\u001b[0m     datalim \u001b[38;5;241m=\u001b[39m collection\u001b[38;5;241m.\u001b[39mget_datalim(\u001b[38;5;28mself\u001b[39m\u001b[38;5;241m.\u001b[39mtransData)\n\u001b[1;32m   2249\u001b[0m     points \u001b[38;5;241m=\u001b[39m datalim\u001b[38;5;241m.\u001b[39mget_points()\n",
      "File \u001b[0;32m/projects/iktos/pierre/CondGeoLDM/.venv/lib/python3.9/site-packages/matplotlib/axes/_base.py:777\u001b[0m, in \u001b[0;36m_AxesBase._unstale_viewLim\u001b[0;34m(self)\u001b[0m\n\u001b[1;32m    775\u001b[0m     \u001b[38;5;28;01mfor\u001b[39;00m ax \u001b[38;5;129;01min\u001b[39;00m \u001b[38;5;28mself\u001b[39m\u001b[38;5;241m.\u001b[39m_shared_axes[name]\u001b[38;5;241m.\u001b[39mget_siblings(\u001b[38;5;28mself\u001b[39m):\n\u001b[1;32m    776\u001b[0m         ax\u001b[38;5;241m.\u001b[39m_stale_viewlims[name] \u001b[38;5;241m=\u001b[39m \u001b[38;5;28;01mFalse\u001b[39;00m\n\u001b[0;32m--> 777\u001b[0m \u001b[38;5;28;43mself\u001b[39;49m\u001b[38;5;241;43m.\u001b[39;49m\u001b[43mautoscale_view\u001b[49m\u001b[43m(\u001b[49m\u001b[38;5;241;43m*\u001b[39;49m\u001b[38;5;241;43m*\u001b[39;49m\u001b[43m{\u001b[49m\u001b[38;5;124;43mf\u001b[39;49m\u001b[38;5;124;43m\"\u001b[39;49m\u001b[38;5;124;43mscale\u001b[39;49m\u001b[38;5;132;43;01m{\u001b[39;49;00m\u001b[43mname\u001b[49m\u001b[38;5;132;43;01m}\u001b[39;49;00m\u001b[38;5;124;43m\"\u001b[39;49m\u001b[43m:\u001b[49m\u001b[43m \u001b[49m\u001b[43mscale\u001b[49m\n\u001b[1;32m    778\u001b[0m \u001b[43m                       \u001b[49m\u001b[38;5;28;43;01mfor\u001b[39;49;00m\u001b[43m \u001b[49m\u001b[43mname\u001b[49m\u001b[43m,\u001b[49m\u001b[43m \u001b[49m\u001b[43mscale\u001b[49m\u001b[43m \u001b[49m\u001b[38;5;129;43;01min\u001b[39;49;00m\u001b[43m \u001b[49m\u001b[43mneed_scale\u001b[49m\u001b[38;5;241;43m.\u001b[39;49m\u001b[43mitems\u001b[49m\u001b[43m(\u001b[49m\u001b[43m)\u001b[49m\u001b[43m}\u001b[49m\u001b[43m)\u001b[49m\n",
      "File \u001b[0;32m/projects/iktos/pierre/CondGeoLDM/.venv/lib/python3.9/site-packages/matplotlib/axes/_base.py:2862\u001b[0m, in \u001b[0;36m_AxesBase.autoscale_view\u001b[0;34m(self, tight, scalex, scaley)\u001b[0m\n\u001b[1;32m   2856\u001b[0m         x_stickies \u001b[38;5;241m=\u001b[39m np\u001b[38;5;241m.\u001b[39msort(np\u001b[38;5;241m.\u001b[39mconcatenate([\n\u001b[1;32m   2857\u001b[0m             artist\u001b[38;5;241m.\u001b[39msticky_edges\u001b[38;5;241m.\u001b[39mx\n\u001b[1;32m   2858\u001b[0m             \u001b[38;5;28;01mfor\u001b[39;00m ax \u001b[38;5;129;01min\u001b[39;00m \u001b[38;5;28mself\u001b[39m\u001b[38;5;241m.\u001b[39m_shared_axes[\u001b[38;5;124m\"\u001b[39m\u001b[38;5;124mx\u001b[39m\u001b[38;5;124m\"\u001b[39m]\u001b[38;5;241m.\u001b[39mget_siblings(\u001b[38;5;28mself\u001b[39m)\n\u001b[1;32m   2859\u001b[0m             \u001b[38;5;28;01mif\u001b[39;00m \u001b[38;5;28mhasattr\u001b[39m(ax, \u001b[38;5;124m\"\u001b[39m\u001b[38;5;124m_children\u001b[39m\u001b[38;5;124m\"\u001b[39m)\n\u001b[1;32m   2860\u001b[0m             \u001b[38;5;28;01mfor\u001b[39;00m artist \u001b[38;5;129;01min\u001b[39;00m ax\u001b[38;5;241m.\u001b[39mget_children()]))\n\u001b[1;32m   2861\u001b[0m     \u001b[38;5;28;01mif\u001b[39;00m \u001b[38;5;28mself\u001b[39m\u001b[38;5;241m.\u001b[39m_ymargin \u001b[38;5;129;01mand\u001b[39;00m scaley \u001b[38;5;129;01mand\u001b[39;00m \u001b[38;5;28mself\u001b[39m\u001b[38;5;241m.\u001b[39m_autoscaleYon:\n\u001b[0;32m-> 2862\u001b[0m         y_stickies \u001b[38;5;241m=\u001b[39m np\u001b[38;5;241m.\u001b[39msort(\u001b[43mnp\u001b[49m\u001b[38;5;241;43m.\u001b[39;49m\u001b[43mconcatenate\u001b[49m\u001b[43m(\u001b[49m\u001b[43m[\u001b[49m\n\u001b[1;32m   2863\u001b[0m \u001b[43m            \u001b[49m\u001b[43martist\u001b[49m\u001b[38;5;241;43m.\u001b[39;49m\u001b[43msticky_edges\u001b[49m\u001b[38;5;241;43m.\u001b[39;49m\u001b[43my\u001b[49m\n\u001b[1;32m   2864\u001b[0m \u001b[43m            \u001b[49m\u001b[38;5;28;43;01mfor\u001b[39;49;00m\u001b[43m \u001b[49m\u001b[43max\u001b[49m\u001b[43m \u001b[49m\u001b[38;5;129;43;01min\u001b[39;49;00m\u001b[43m \u001b[49m\u001b[38;5;28;43mself\u001b[39;49m\u001b[38;5;241;43m.\u001b[39;49m\u001b[43m_shared_axes\u001b[49m\u001b[43m[\u001b[49m\u001b[38;5;124;43m\"\u001b[39;49m\u001b[38;5;124;43my\u001b[39;49m\u001b[38;5;124;43m\"\u001b[39;49m\u001b[43m]\u001b[49m\u001b[38;5;241;43m.\u001b[39;49m\u001b[43mget_siblings\u001b[49m\u001b[43m(\u001b[49m\u001b[38;5;28;43mself\u001b[39;49m\u001b[43m)\u001b[49m\n\u001b[1;32m   2865\u001b[0m \u001b[43m            \u001b[49m\u001b[38;5;28;43;01mif\u001b[39;49;00m\u001b[43m \u001b[49m\u001b[38;5;28;43mhasattr\u001b[39;49m\u001b[43m(\u001b[49m\u001b[43max\u001b[49m\u001b[43m,\u001b[49m\u001b[43m \u001b[49m\u001b[38;5;124;43m\"\u001b[39;49m\u001b[38;5;124;43m_children\u001b[39;49m\u001b[38;5;124;43m\"\u001b[39;49m\u001b[43m)\u001b[49m\n\u001b[1;32m   2866\u001b[0m \u001b[43m            \u001b[49m\u001b[38;5;28;43;01mfor\u001b[39;49;00m\u001b[43m \u001b[49m\u001b[43martist\u001b[49m\u001b[43m \u001b[49m\u001b[38;5;129;43;01min\u001b[39;49;00m\u001b[43m \u001b[49m\u001b[43max\u001b[49m\u001b[38;5;241;43m.\u001b[39;49m\u001b[43mget_children\u001b[49m\u001b[43m(\u001b[49m\u001b[43m)\u001b[49m\u001b[43m]\u001b[49m\u001b[43m)\u001b[49m)\n\u001b[1;32m   2867\u001b[0m \u001b[38;5;28;01mif\u001b[39;00m \u001b[38;5;28mself\u001b[39m\u001b[38;5;241m.\u001b[39mget_xscale() \u001b[38;5;241m==\u001b[39m \u001b[38;5;124m'\u001b[39m\u001b[38;5;124mlog\u001b[39m\u001b[38;5;124m'\u001b[39m:\n\u001b[1;32m   2868\u001b[0m     x_stickies \u001b[38;5;241m=\u001b[39m x_stickies[x_stickies \u001b[38;5;241m>\u001b[39m \u001b[38;5;241m0\u001b[39m]\n",
      "File \u001b[0;32m<__array_function__ internals>:200\u001b[0m, in \u001b[0;36mconcatenate\u001b[0;34m(*args, **kwargs)\u001b[0m\n",
      "\u001b[0;31mKeyboardInterrupt\u001b[0m: "
     ]
    }
   ],
   "source": [
    "fingerprints_j = np.load(\"/projects/iktos/pierre/CondGeoLDM/data/jump_data/jump_fingerprints.npy\", allow_pickle=True)\n",
    "fingerprints_g = np.load(\"/projects/iktos/pierre/CondGeoLDM/data/jump_data/geom_fingerprints.npy\", allow_pickle=True)\n",
    "# X = np.vstack([fingerprints_j ,fingerprints_g])\n",
    "# labels = np.array(['jump'] * len(fingerprints_j) + ['geom'] * len(fingerprints_g))\n",
    "# reducer = umap.UMAP(n_neighbors=15, min_dist=0.1, metric='cosine')\n",
    "# X_umap = reducer.fit_transform(X)\n",
    "\n",
    "# Visualization\n",
    "colors = {'jump': 'steelblue', 'geom': 'darkorange'}\n",
    "plt.figure(figsize=(10, 8))\n",
    "# Shuffle the data and labels together\n",
    "shuffled_indices = np.random.permutation(len(X_umap))\n",
    "X_umap_shuffled = X_umap[shuffled_indices]\n",
    "labels_shuffled = labels[shuffled_indices]\n",
    "for i in range(len(X_umap_shuffled)):\n",
    "    x, y = X_umap_shuffled[i]\n",
    "    label = labels_shuffled[i]\n",
    "    plt.scatter(x, y, c=colors[label], alpha=0.7, s=20)\n",
    "plt.title('UMAP Projection of Jump and Geom Fingerprints')\n",
    "plt.xlabel('UMAP 1')\n",
    "plt.ylabel('UMAP 2')\n",
    "plt.legend()\n",
    "plt.savefig('umap_projection_jump_geom_1.png', dpi=300)\n",
    "plt.show()"
   ]
  },
  {
   "cell_type": "code",
   "execution_count": null,
   "metadata": {},
   "outputs": [
    {
     "name": "stdout",
     "output_type": "stream",
     "text": [
      "24\n"
     ]
    }
   ],
   "source": [
    "print(os.cpu_count())\n"
   ]
  },
  {
   "cell_type": "code",
   "execution_count": null,
   "metadata": {},
   "outputs": [
    {
     "data": {
      "application/vnd.jupyter.widget-view+json": {
       "model_id": "e3c5d06d64394ecd8aaafe8a2ebcbeab",
       "version_major": 2,
       "version_minor": 0
      },
      "text/plain": [
       "  0%|          | 0/292035 [00:00<?, ?it/s]"
      ]
     },
     "metadata": {},
     "output_type": "display_data"
    },
    {
     "ename": "",
     "evalue": "",
     "output_type": "error",
     "traceback": [
      "\u001b[1;31mThe Kernel crashed while executing code in the current cell or a previous cell. \n",
      "\u001b[1;31mPlease review the code in the cell(s) to identify a possible cause of the failure. \n",
      "\u001b[1;31mClick <a href='https://aka.ms/vscodeJupyterKernelCrash'>here</a> for more info. \n",
      "\u001b[1;31mView Jupyter <a href='command:jupyter.viewOutput'>log</a> for further details."
     ]
    }
   ],
   "source": [
    "import multiprocessing\n",
    "similarities = []\n",
    "def init_pool(fj):\n",
    "    global fingerprints_j_global\n",
    "    fingerprints_j_global = fj\n",
    "\n",
    "def compute_similarity(fp_g):\n",
    "    try:\n",
    "        return DataStructs.BulkTanimotoSimilarity(fp_g, fingerprints_j)\n",
    "    except Exception as e:\n",
    "        print(f\"Error computing similarity: {e}\")\n",
    "        return None  \n",
    "\n",
    "# This works if fingerprints_j is small and can be broadcast into each process\n",
    "with multiprocessing.Pool(processes=8) as pool:\n",
    "    results = list(tqdm.notebook.tqdm(pool.imap(compute_similarity, fingerprints_g), total=len(fingerprints_g)))"
   ]
  },
  {
   "cell_type": "code",
   "execution_count": 3,
   "metadata": {},
   "outputs": [
    {
     "data": {
      "application/vnd.microsoft.datawrangler.viewer.v0+json": {
       "columns": [
        {
         "name": "index",
         "rawType": "int64",
         "type": "integer"
        },
        {
         "name": "0",
         "rawType": "float64",
         "type": "float"
        }
       ],
       "ref": "bdf8a037-1a0a-4550-b68f-3a228941bb2b",
       "rows": [
        [
         "0",
         "0.4406779661016949"
        ],
        [
         "1",
         "1.0"
        ],
        [
         "2",
         "0.45901639344262296"
        ],
        [
         "3",
         "0.3787878787878788"
        ],
        [
         "4",
         "0.39705882352941174"
        ],
        [
         "5",
         "0.3888888888888889"
        ],
        [
         "6",
         "0.28888888888888886"
        ],
        [
         "7",
         "0.45"
        ],
        [
         "8",
         "0.46296296296296297"
        ],
        [
         "9",
         "0.6333333333333333"
        ],
        [
         "10",
         "0.375"
        ],
        [
         "11",
         "0.42105263157894735"
        ],
        [
         "12",
         "0.25287356321839083"
        ],
        [
         "13",
         "0.3333333333333333"
        ],
        [
         "14",
         "0.4383561643835616"
        ],
        [
         "15",
         "0.3389830508474576"
        ],
        [
         "16",
         "0.3076923076923077"
        ],
        [
         "17",
         "1.0"
        ],
        [
         "18",
         "0.7534246575342466"
        ],
        [
         "19",
         "0.4716981132075472"
        ],
        [
         "20",
         "0.34782608695652173"
        ],
        [
         "21",
         "0.3728813559322034"
        ],
        [
         "22",
         "0.3787878787878788"
        ],
        [
         "23",
         "0.45901639344262296"
        ],
        [
         "24",
         "0.3114754098360656"
        ],
        [
         "25",
         "0.38461538461538464"
        ],
        [
         "26",
         "0.38596491228070173"
        ],
        [
         "27",
         "0.36363636363636365"
        ],
        [
         "28",
         "0.3617021276595745"
        ],
        [
         "29",
         "0.4367816091954023"
        ],
        [
         "30",
         "0.676923076923077"
        ],
        [
         "31",
         "0.6724137931034483"
        ],
        [
         "32",
         "0.5"
        ],
        [
         "33",
         "0.417910447761194"
        ],
        [
         "34",
         "0.23655913978494625"
        ],
        [
         "35",
         "0.3561643835616438"
        ],
        [
         "36",
         "0.5964912280701754"
        ],
        [
         "37",
         "0.42857142857142855"
        ],
        [
         "38",
         "0.38596491228070173"
        ],
        [
         "39",
         "0.6551724137931034"
        ],
        [
         "40",
         "1.0"
        ],
        [
         "41",
         "0.7142857142857143"
        ],
        [
         "42",
         "0.3870967741935484"
        ],
        [
         "43",
         "0.3888888888888889"
        ],
        [
         "44",
         "0.3561643835616438"
        ],
        [
         "45",
         "0.42028985507246375"
        ],
        [
         "46",
         "0.4225352112676056"
        ],
        [
         "47",
         "0.3764705882352941"
        ],
        [
         "48",
         "0.4057971014492754"
        ],
        [
         "49",
         "0.3384615384615385"
        ]
       ],
       "shape": {
        "columns": 1,
        "rows": 112410
       }
      },
      "text/html": [
       "<div>\n",
       "<style scoped>\n",
       "    .dataframe tbody tr th:only-of-type {\n",
       "        vertical-align: middle;\n",
       "    }\n",
       "\n",
       "    .dataframe tbody tr th {\n",
       "        vertical-align: top;\n",
       "    }\n",
       "\n",
       "    .dataframe thead th {\n",
       "        text-align: right;\n",
       "    }\n",
       "</style>\n",
       "<table border=\"1\" class=\"dataframe\">\n",
       "  <thead>\n",
       "    <tr style=\"text-align: right;\">\n",
       "      <th></th>\n",
       "      <th>0</th>\n",
       "    </tr>\n",
       "  </thead>\n",
       "  <tbody>\n",
       "    <tr>\n",
       "      <th>0</th>\n",
       "      <td>0.440678</td>\n",
       "    </tr>\n",
       "    <tr>\n",
       "      <th>1</th>\n",
       "      <td>1.000000</td>\n",
       "    </tr>\n",
       "    <tr>\n",
       "      <th>2</th>\n",
       "      <td>0.459016</td>\n",
       "    </tr>\n",
       "    <tr>\n",
       "      <th>3</th>\n",
       "      <td>0.378788</td>\n",
       "    </tr>\n",
       "    <tr>\n",
       "      <th>4</th>\n",
       "      <td>0.397059</td>\n",
       "    </tr>\n",
       "    <tr>\n",
       "      <th>...</th>\n",
       "      <td>...</td>\n",
       "    </tr>\n",
       "    <tr>\n",
       "      <th>112405</th>\n",
       "      <td>0.523077</td>\n",
       "    </tr>\n",
       "    <tr>\n",
       "      <th>112406</th>\n",
       "      <td>1.000000</td>\n",
       "    </tr>\n",
       "    <tr>\n",
       "      <th>112407</th>\n",
       "      <td>0.475410</td>\n",
       "    </tr>\n",
       "    <tr>\n",
       "      <th>112408</th>\n",
       "      <td>0.533333</td>\n",
       "    </tr>\n",
       "    <tr>\n",
       "      <th>112409</th>\n",
       "      <td>1.000000</td>\n",
       "    </tr>\n",
       "  </tbody>\n",
       "</table>\n",
       "<p>112410 rows × 1 columns</p>\n",
       "</div>"
      ],
      "text/plain": [
       "               0\n",
       "0       0.440678\n",
       "1       1.000000\n",
       "2       0.459016\n",
       "3       0.378788\n",
       "4       0.397059\n",
       "...          ...\n",
       "112405  0.523077\n",
       "112406  1.000000\n",
       "112407  0.475410\n",
       "112408  0.533333\n",
       "112409  1.000000\n",
       "\n",
       "[112410 rows x 1 columns]"
      ]
     },
     "execution_count": 3,
     "metadata": {},
     "output_type": "execute_result"
    }
   ],
   "source": [
    "import numpy as np\n",
    "import pandas as pd\n",
    "\n",
    "best_hits = np.load('/projects/iktos/pierre/CondGeoLDM/data/jump_data/best_hits.npy', allow_pickle=True)\n",
    "best_hits = pd.DataFrame(best_hits)\n",
    "best_hits"
   ]
  },
  {
   "cell_type": "code",
   "execution_count": 6,
   "metadata": {},
   "outputs": [
    {
     "name": "stderr",
     "output_type": "stream",
     "text": [
      "/tmp/ipykernel_4057983/490226981.py:24: UserWarning: Matplotlib is currently using agg, which is a non-GUI backend, so cannot show the figure.\n",
      "  plt.show()\n"
     ]
    }
   ],
   "source": [
    "import matplotlib.pyplot as plt\n",
    "\n",
    "# Extract the values from the DataFrame\n",
    "values = best_hits[0]\n",
    "\n",
    "# Define bins: 100 evenly spaced bins between 0 and 1, and a special bin for the value 1\n",
    "bins = [i / 100 for i in range(100)] + [1.01]\n",
    "\n",
    "# Create the histogram\n",
    "plt.hist(values, bins=bins, edgecolor='black', alpha=0.7)\n",
    "\n",
    "# Customize the plot\n",
    "plt.title('Highest Tanimoto Similarity Values from Jump to Geom')\n",
    "plt.xlabel('Value')\n",
    "plt.ylabel('Frequency')\n",
    "plt.xticks([i / 10 for i in range(11)], rotation=45)\n",
    "plt.grid(axis='y', alpha=0.3)\n",
    "# Annotate the bar for the bin with value 1.0\n",
    "bin_index = bins.index(1.01) - 1  # Find the index of the bin corresponding to 1.0\n",
    "frequency = plt.hist(values, bins=bins)[0][bin_index]  # Get the frequency for the bin\n",
    "plt.text(1.0, frequency + 50, str(int(frequency)), ha='center', va='bottom', fontsize=10, color='red')\n",
    "# Show the plot\n",
    "plt.tight_layout()\n",
    "plt.show()\n",
    "plt.savefig('best_hits_histogram.png', dpi=300)"
   ]
  },
  {
   "cell_type": "code",
   "execution_count": null,
   "metadata": {},
   "outputs": [
    {
     "name": "stdout",
     "output_type": "stream",
     "text": [
      "debug\n"
     ]
    },
    {
     "ename": "TypeError",
     "evalue": "mimwrite() missing 1 required positional argument: 'ims'",
     "output_type": "error",
     "traceback": [
      "\u001b[0;31m---------------------------------------------------------------------------\u001b[0m",
      "\u001b[0;31mTypeError\u001b[0m                                 Traceback (most recent call last)",
      "Input \u001b[0;32mIn [1]\u001b[0m, in \u001b[0;36m<cell line: 4>\u001b[0;34m()\u001b[0m\n\u001b[1;32m      2\u001b[0m os\u001b[38;5;241m.\u001b[39mchdir(\u001b[38;5;124m'\u001b[39m\u001b[38;5;124m/projects/iktos/pierre/CondGeoLDM\u001b[39m\u001b[38;5;124m'\u001b[39m)\n\u001b[1;32m      3\u001b[0m \u001b[38;5;28;01mfrom\u001b[39;00m \u001b[38;5;21;01mqm9\u001b[39;00m\u001b[38;5;21;01m.\u001b[39;00m\u001b[38;5;21;01mvisualizer\u001b[39;00m \u001b[38;5;28;01mimport\u001b[39;00m plot_grid\n\u001b[0;32m----> 4\u001b[0m \u001b[43mplot_grid\u001b[49m\u001b[43m(\u001b[49m\u001b[38;5;124;43m\"\u001b[39;49m\u001b[38;5;124;43m./outputs/debug\u001b[39;49m\u001b[38;5;124;43m\"\u001b[39;49m\u001b[43m)\u001b[49m\n",
      "File \u001b[0;32m/import/pr_iktos/pierre/CondGeoLDM/qm9/visualizer.py:308\u001b[0m, in \u001b[0;36mplot_grid\u001b[0;34m(save_path, nrows, ncols)\u001b[0m\n\u001b[1;32m    306\u001b[0m \u001b[38;5;28mprint\u001b[39m(exp_name)\n\u001b[1;32m    307\u001b[0m fig\u001b[38;5;241m.\u001b[39msuptitle(\u001b[38;5;124mf\u001b[39m\u001b[38;5;124m'\u001b[39m\u001b[38;5;132;01m{\u001b[39;00mexp_name\u001b[38;5;132;01m}\u001b[39;00m\u001b[38;5;124m'\u001b[39m, fontsize\u001b[38;5;241m=\u001b[39m\u001b[38;5;241m16\u001b[39m)\n\u001b[0;32m--> 308\u001b[0m \u001b[43mimageio\u001b[49m\u001b[38;5;241;43m.\u001b[39;49m\u001b[43mmimsave\u001b[49m\u001b[43m(\u001b[49m\u001b[38;5;124;43mf\u001b[39;49m\u001b[38;5;124;43m\"\u001b[39;49m\u001b[38;5;124;43mtestgrid.gif\u001b[39;49m\u001b[38;5;124;43m\"\u001b[39;49m\u001b[43m)\u001b[49m\n",
      "\u001b[0;31mTypeError\u001b[0m: mimwrite() missing 1 required positional argument: 'ims'"
     ]
    }
   ],
   "source": [
    "import os\n",
    "os.chdir('/projects/iktos/pierre/CondGeoLDM')\n",
    "files = load_xyz_files(path)\n",
    "files = sorted(files)\n",
    "save_paths = []\n",
    "\n",
    "for i in range(len(files)):\n",
    "    file = files[i]\n",
    "\n",
    "    positions, one_hot, charges = load_molecule_xyz(file, dataset_info=dataset_info)\n",
    "\n",
    "    atom_type = torch.argmax(one_hot, dim=1).numpy()\n",
    "    fn = file[:-4] + '.png'\n",
    "    plot_data3d(positions, atom_type, dataset_info=dataset_info,\n",
    "                save_path=fn, spheres_3d=spheres_3d, alpha=1.0)\n",
    "    save_paths.append(fn)\n",
    "\n",
    "imgs = [imageio.imread(fn) for fn in save_paths]\n",
    "dirname = os.path.dirname(save_paths[0])\n",
    "gif_path = dirname + '/output.gif'\n",
    "print(f'Creating gif with {len(imgs)} images')\n",
    "# Add the last frame 10 times so that the final result remains temporally.\n",
    "# imgs.extend([imgs[-1]] * 10)\n",
    "imageio.mimsave(gif_path, imgs, subrectangles=True)\n",
    "\n",
    "if wandb is not None:\n",
    "    wandb.log({mode: [wandb.Video(gif_path, caption=gif_path)]})\n",
    "# for file in save_paths:\n",
    "    #     os.remove(file)\n",
    "\n"
   ]
  }
 ],
 "metadata": {
  "kernelspec": {
   "display_name": ".venv",
   "language": "python",
   "name": "python3"
  },
  "language_info": {
   "codemirror_mode": {
    "name": "ipython",
    "version": 3
   },
   "file_extension": ".py",
   "mimetype": "text/x-python",
   "name": "python",
   "nbconvert_exporter": "python",
   "pygments_lexer": "ipython3",
   "version": "3.9.22"
  }
 },
 "nbformat": 4,
 "nbformat_minor": 2
}
